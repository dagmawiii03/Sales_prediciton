{
 "cells": [
  {
   "cell_type": "markdown",
   "id": "20a58070",
   "metadata": {},
   "source": [
    "# ML MODELING"
   ]
  },
  {
   "cell_type": "code",
   "execution_count": 2,
   "id": "39d8883e",
   "metadata": {},
   "outputs": [],
   "source": [
    "import warnings\n",
    "warnings.filterwarnings(\"ignore\")\n",
    "import sys\n",
    "import os\n",
    "\n"
   ]
  },
  {
   "cell_type": "code",
   "execution_count": 5,
   "id": "93d0c183",
   "metadata": {},
   "outputs": [],
   "source": [
    "import numpy as np\n",
    "import pandas as pd\n",
    "import seaborn as sns\n",
    "import matplotlib.pyplot as plt\n",
    "import matplotlib as mpl\n",
    "%matplotlib inline\n",
    "sns.set()\n"
   ]
  },
  {
   "cell_type": "code",
   "execution_count": 4,
   "id": "2cd67b85",
   "metadata": {},
   "outputs": [],
   "source": [
    "from sklearn.base import BaseEstimator, TransformerMixin\n",
    "from sklearn.model_selection import train_test_split, GridSearchCV\n",
    "from sklearn.ensemble import RandomForestRegressor\n",
    "from sklearn.preprocessing import StandardScaler, OneHotEncoder, LabelEncoder\n",
    "from sklearn.compose import ColumnTransformer\n",
    "from sklearn.pipeline import Pipeline\n",
    "from sklearn.impute import SimpleImputer\n",
    "import mlflow"
   ]
  },
  {
   "cell_type": "code",
   "execution_count": 6,
   "id": "b32efd84",
   "metadata": {},
   "outputs": [],
   "source": [
    "from sklearn.model_selection import train_test_split \n",
    "from sklearn.linear_model import LinearRegression\n",
    "from sklearn.preprocessing import StandardScaler\n",
    "from sklearn.ensemble import RandomForestRegressor\n",
    "from sklearn.compose import ColumnTransformer\n",
    "from sklearn.pipeline import Pipeline\n",
    "from sklearn.impute import SimpleImputer\n",
    "from sklearn import preprocessing\n",
    "from sklearn import metrics"
   ]
  },
  {
   "cell_type": "code",
   "execution_count": 7,
   "id": "0b75ca4d",
   "metadata": {},
   "outputs": [],
   "source": [
    "from sklearn.metrics import mean_squared_error, mean_absolute_error, r2_score\n",
    "from sklearn.model_selection import train_test_split\n",
    "from sklearn.linear_model import ElasticNet\n",
    "from urllib.parse import urlparse\n",
    "import mlflow\n",
    "import mlflow.sklearn"
   ]
  },
  {
   "cell_type": "code",
   "execution_count": 8,
   "id": "19552307",
   "metadata": {},
   "outputs": [],
   "source": [
    "from datetime import datetime\n",
    "from pickle import dump\n",
    "import mlflow\n",
    "from sklearn.svm import SVC\n",
    "from sklearn.model_selection import train_test_split, GridSearchCV"
   ]
  },
  {
   "cell_type": "code",
   "execution_count": 10,
   "id": "260d9051",
   "metadata": {},
   "outputs": [
    {
     "ename": "SyntaxError",
     "evalue": "invalid syntax (<ipython-input-10-106ecb9c2fec>, line 1)",
     "output_type": "error",
     "traceback": [
      "\u001b[1;36m  File \u001b[1;32m\"<ipython-input-10-106ecb9c2fec>\"\u001b[1;36m, line \u001b[1;32m1\u001b[0m\n\u001b[1;33m    from sklearn.metrics import from sklearn.metrics import roc_auc_score, roc_curve, confusion_matrix, accuracy_score, precision_recall_curve, f1_score, mean_squared_error, r2_score, mean\u001b[0m\n\u001b[1;37m                                ^\u001b[0m\n\u001b[1;31mSyntaxError\u001b[0m\u001b[1;31m:\u001b[0m invalid syntax\n"
     ]
    }
   ],
   "source": [
    "#from sklearn.metrics import from sklearn.metrics import roc_auc_score, roc_curve, confusion_matrix, accuracy_score, precision_recall_curve, f1_score, mean_squared_error, r2_score, mean"
   ]
  },
  {
   "cell_type": "code",
   "execution_count": 11,
   "id": "aedc2a5c",
   "metadata": {},
   "outputs": [],
   "source": [
    "sys.path.append(os.path.abspath(os.path.join('data')))\n",
    "sys.path.insert(0,'../Scripts/')\n",
    "from cleaner import DataCleaner\n",
    "from data_information import DataInfo\n",
    "from Data_logger import CreateLogger\n",
    "from data_manipulation import DataManipulator\n",
    "from Graphs import draw\n",
    "from Results import result_picker\n",
    "\n"
   ]
  },
  {
   "cell_type": "code",
   "execution_count": 14,
   "id": "8c7d0a7c",
   "metadata": {},
   "outputs": [],
   "source": [
    "clean_df =pd.read_csv('../data2/train_store.csv')"
   ]
  },
  {
   "cell_type": "code",
   "execution_count": 15,
   "id": "b725c894",
   "metadata": {},
   "outputs": [
    {
     "data": {
      "text/html": [
       "<div>\n",
       "<style scoped>\n",
       "    .dataframe tbody tr th:only-of-type {\n",
       "        vertical-align: middle;\n",
       "    }\n",
       "\n",
       "    .dataframe tbody tr th {\n",
       "        vertical-align: top;\n",
       "    }\n",
       "\n",
       "    .dataframe thead th {\n",
       "        text-align: right;\n",
       "    }\n",
       "</style>\n",
       "<table border=\"1\" class=\"dataframe\">\n",
       "  <thead>\n",
       "    <tr style=\"text-align: right;\">\n",
       "      <th></th>\n",
       "      <th>DayOfWeek</th>\n",
       "      <th>WeekDay</th>\n",
       "      <th>Year</th>\n",
       "      <th>Month</th>\n",
       "      <th>Season</th>\n",
       "      <th>Day</th>\n",
       "      <th>MonthTiming</th>\n",
       "      <th>Sales</th>\n",
       "      <th>Customers</th>\n",
       "      <th>Open</th>\n",
       "      <th>...</th>\n",
       "      <th>Assortment</th>\n",
       "      <th>CompetitionDistance</th>\n",
       "      <th>CompetitionOpenSinceMonth</th>\n",
       "      <th>CompetitionOpenSinceYear</th>\n",
       "      <th>Promo2</th>\n",
       "      <th>Promo2SinceWeek</th>\n",
       "      <th>Promo2SinceYear</th>\n",
       "      <th>PromoInterval</th>\n",
       "      <th>SalesPerCustomer</th>\n",
       "      <th>CompetitionOpenSince</th>\n",
       "    </tr>\n",
       "  </thead>\n",
       "  <tbody>\n",
       "    <tr>\n",
       "      <th>0</th>\n",
       "      <td>0.501484</td>\n",
       "      <td>0.630672</td>\n",
       "      <td>1.502077</td>\n",
       "      <td>0.346724</td>\n",
       "      <td>0.389712</td>\n",
       "      <td>1.740766</td>\n",
       "      <td>1.205894</td>\n",
       "      <td>-0.063134</td>\n",
       "      <td>-0.067027</td>\n",
       "      <td>0.452399</td>\n",
       "      <td>...</td>\n",
       "      <td>-0.940975</td>\n",
       "      <td>-0.538742</td>\n",
       "      <td>0.436247</td>\n",
       "      <td>-0.385752</td>\n",
       "      <td>-1.001128</td>\n",
       "      <td>-0.421904</td>\n",
       "      <td>-0.305054</td>\n",
       "      <td>0.045131</td>\n",
       "      <td>-0.093996</td>\n",
       "      <td>0.595717</td>\n",
       "    </tr>\n",
       "    <tr>\n",
       "      <th>1</th>\n",
       "      <td>0.000831</td>\n",
       "      <td>0.630672</td>\n",
       "      <td>1.502077</td>\n",
       "      <td>0.346724</td>\n",
       "      <td>0.389712</td>\n",
       "      <td>1.626969</td>\n",
       "      <td>1.205894</td>\n",
       "      <td>-0.136239</td>\n",
       "      <td>-0.092863</td>\n",
       "      <td>0.452399</td>\n",
       "      <td>...</td>\n",
       "      <td>-0.940975</td>\n",
       "      <td>-0.538742</td>\n",
       "      <td>0.436247</td>\n",
       "      <td>-0.385752</td>\n",
       "      <td>-1.001128</td>\n",
       "      <td>-0.421904</td>\n",
       "      <td>-0.305054</td>\n",
       "      <td>0.045131</td>\n",
       "      <td>-0.207208</td>\n",
       "      <td>0.595717</td>\n",
       "    </tr>\n",
       "    <tr>\n",
       "      <th>2</th>\n",
       "      <td>-0.499823</td>\n",
       "      <td>0.630672</td>\n",
       "      <td>1.502077</td>\n",
       "      <td>0.346724</td>\n",
       "      <td>0.389712</td>\n",
       "      <td>1.513173</td>\n",
       "      <td>1.205894</td>\n",
       "      <td>-0.207840</td>\n",
       "      <td>-0.158887</td>\n",
       "      <td>0.452399</td>\n",
       "      <td>...</td>\n",
       "      <td>-0.940975</td>\n",
       "      <td>-0.538742</td>\n",
       "      <td>0.436247</td>\n",
       "      <td>-0.385752</td>\n",
       "      <td>-1.001128</td>\n",
       "      <td>-0.421904</td>\n",
       "      <td>-0.305054</td>\n",
       "      <td>0.045131</td>\n",
       "      <td>-0.227101</td>\n",
       "      <td>0.595717</td>\n",
       "    </tr>\n",
       "    <tr>\n",
       "      <th>3</th>\n",
       "      <td>-1.000476</td>\n",
       "      <td>0.630672</td>\n",
       "      <td>1.502077</td>\n",
       "      <td>0.346724</td>\n",
       "      <td>0.389712</td>\n",
       "      <td>1.399377</td>\n",
       "      <td>1.205894</td>\n",
       "      <td>-0.138946</td>\n",
       "      <td>-0.052674</td>\n",
       "      <td>0.452399</td>\n",
       "      <td>...</td>\n",
       "      <td>-0.940975</td>\n",
       "      <td>-0.538742</td>\n",
       "      <td>0.436247</td>\n",
       "      <td>-0.385752</td>\n",
       "      <td>-1.001128</td>\n",
       "      <td>-0.421904</td>\n",
       "      <td>-0.305054</td>\n",
       "      <td>0.045131</td>\n",
       "      <td>-0.303632</td>\n",
       "      <td>0.595717</td>\n",
       "    </tr>\n",
       "    <tr>\n",
       "      <th>4</th>\n",
       "      <td>-1.501129</td>\n",
       "      <td>0.630672</td>\n",
       "      <td>1.502077</td>\n",
       "      <td>0.346724</td>\n",
       "      <td>0.389712</td>\n",
       "      <td>1.285581</td>\n",
       "      <td>1.205894</td>\n",
       "      <td>0.189274</td>\n",
       "      <td>0.096598</td>\n",
       "      <td>0.452399</td>\n",
       "      <td>...</td>\n",
       "      <td>-0.940975</td>\n",
       "      <td>-0.538742</td>\n",
       "      <td>0.436247</td>\n",
       "      <td>-0.385752</td>\n",
       "      <td>-1.001128</td>\n",
       "      <td>-0.421904</td>\n",
       "      <td>-0.305054</td>\n",
       "      <td>0.045131</td>\n",
       "      <td>0.097227</td>\n",
       "      <td>0.595717</td>\n",
       "    </tr>\n",
       "  </tbody>\n",
       "</table>\n",
       "<p>5 rows × 26 columns</p>\n",
       "</div>"
      ],
      "text/plain": [
       "   DayOfWeek   WeekDay      Year     Month    Season       Day  MonthTiming  \\\n",
       "0   0.501484  0.630672  1.502077  0.346724  0.389712  1.740766     1.205894   \n",
       "1   0.000831  0.630672  1.502077  0.346724  0.389712  1.626969     1.205894   \n",
       "2  -0.499823  0.630672  1.502077  0.346724  0.389712  1.513173     1.205894   \n",
       "3  -1.000476  0.630672  1.502077  0.346724  0.389712  1.399377     1.205894   \n",
       "4  -1.501129  0.630672  1.502077  0.346724  0.389712  1.285581     1.205894   \n",
       "\n",
       "      Sales  Customers      Open  ...  Assortment  CompetitionDistance  \\\n",
       "0 -0.063134  -0.067027  0.452399  ...   -0.940975            -0.538742   \n",
       "1 -0.136239  -0.092863  0.452399  ...   -0.940975            -0.538742   \n",
       "2 -0.207840  -0.158887  0.452399  ...   -0.940975            -0.538742   \n",
       "3 -0.138946  -0.052674  0.452399  ...   -0.940975            -0.538742   \n",
       "4  0.189274   0.096598  0.452399  ...   -0.940975            -0.538742   \n",
       "\n",
       "   CompetitionOpenSinceMonth  CompetitionOpenSinceYear    Promo2  \\\n",
       "0                   0.436247                 -0.385752 -1.001128   \n",
       "1                   0.436247                 -0.385752 -1.001128   \n",
       "2                   0.436247                 -0.385752 -1.001128   \n",
       "3                   0.436247                 -0.385752 -1.001128   \n",
       "4                   0.436247                 -0.385752 -1.001128   \n",
       "\n",
       "   Promo2SinceWeek  Promo2SinceYear  PromoInterval  SalesPerCustomer  \\\n",
       "0        -0.421904        -0.305054       0.045131         -0.093996   \n",
       "1        -0.421904        -0.305054       0.045131         -0.207208   \n",
       "2        -0.421904        -0.305054       0.045131         -0.227101   \n",
       "3        -0.421904        -0.305054       0.045131         -0.303632   \n",
       "4        -0.421904        -0.305054       0.045131          0.097227   \n",
       "\n",
       "   CompetitionOpenSince  \n",
       "0              0.595717  \n",
       "1              0.595717  \n",
       "2              0.595717  \n",
       "3              0.595717  \n",
       "4              0.595717  \n",
       "\n",
       "[5 rows x 26 columns]"
      ]
     },
     "execution_count": 15,
     "metadata": {},
     "output_type": "execute_result"
    }
   ],
   "source": [
    "clean_df.head()"
   ]
  },
  {
   "cell_type": "markdown",
   "id": "be8cf567",
   "metadata": {},
   "source": [
    "# Random Forest Regression"
   ]
  },
  {
   "cell_type": "code",
   "execution_count": 16,
   "id": "bc9b5c66",
   "metadata": {},
   "outputs": [],
   "source": [
    "#separation the data as dependent and independent var\n",
    "X = clean_df.drop(['Customers', 'Sales', 'SalesPerCustomer'], axis = 1)\n",
    "y = clean_df['Sales']"
   ]
  },
  {
   "cell_type": "code",
   "execution_count": 18,
   "id": "8dee82f5",
   "metadata": {},
   "outputs": [],
   "source": [
    "# Splitting Data (60,20,20) of train test and validation respectively\n",
    "X_train, X_test, y_train, y_test = train_test_split(X, y, test_size=0.2, random_state=42)\n",
    "X_train, X_valid, y_train, y_valid = train_test_split(X_train, y_train, test_size=0.2, random_state=42)"
   ]
  },
  {
   "cell_type": "code",
   "execution_count": 19,
   "id": "e4af89c6",
   "metadata": {},
   "outputs": [],
   "source": [
    "# Define the Pipeline\n",
    "model_pipeline = Pipeline(steps=[('random_forest', RandomForestRegressor(max_depth=10,random_state=2))])"
   ]
  },
  {
   "cell_type": "code",
   "execution_count": 20,
   "id": "bd1340a2",
   "metadata": {},
   "outputs": [],
   "source": [
    "def eval_metrics(actual, pred):\n",
    "    rmse = np.sqrt(mean_squared_error(actual, pred))\n",
    "    mae = mean_absolute_error(actual, pred)\n",
    "    r2 = r2_score(actual, pred)\n",
    "    print(\"RMSE Score is: {:.5%}\".format(rmse))\n",
    "    print(\"R2 Square Score is: {:.5%}\".format(r2))\n",
    "    print(\"MAE Score is: {:.5%}\".format(mae))\n",
    "    return {f'RMSE Score': rmse, f'R2_Squared': r2, f'MAE Score': mae}"
   ]
  },
  {
   "cell_type": "code",
   "execution_count": null,
   "id": "961a3cae",
   "metadata": {},
   "outputs": [],
   "source": []
  }
 ],
 "metadata": {
  "kernelspec": {
   "display_name": "Python 3",
   "language": "python",
   "name": "python3"
  },
  "language_info": {
   "codemirror_mode": {
    "name": "ipython",
    "version": 3
   },
   "file_extension": ".py",
   "mimetype": "text/x-python",
   "name": "python",
   "nbconvert_exporter": "python",
   "pygments_lexer": "ipython3",
   "version": "3.8.8"
  }
 },
 "nbformat": 4,
 "nbformat_minor": 5
}
