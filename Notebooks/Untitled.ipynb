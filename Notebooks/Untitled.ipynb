{
 "cells": [
  {
   "cell_type": "code",
   "execution_count": 53,
   "id": "47ce2f4d",
   "metadata": {},
   "outputs": [],
   "source": [
    "#importing Libraries\n",
    "import pandas as pd\n",
    "import dvc.api\n",
    "import os\n",
    "import sys\n",
    "import numpy as np\n",
    "import mlflow"
   ]
  },
  {
   "cell_type": "code",
   "execution_count": 52,
   "id": "993ee9e4",
   "metadata": {},
   "outputs": [],
   "source": [
    "from sklearn.base import BaseEstimator, TransformerMixin\n",
    "from sklearn.model_selection import train_test_split, GridSearchCV\n",
    "from sklearn.ensemble import RandomForestRegressor\n",
    "from sklearn.preprocessing import StandardScaler, OneHotEncoder, LabelEncoder\n",
    "from sklearn.compose import ColumnTransformer\n",
    "from sklearn.pipeline import Pipeline\n",
    "from sklearn.impute import SimpleImputer"
   ]
  },
  {
   "cell_type": "code",
   "execution_count": 54,
   "id": "f7e00270",
   "metadata": {},
   "outputs": [],
   "source": [
    "#importing local modules\n",
    "#from scripts.ML_modelling_utils import *\n",
    "sys.path.append(os.path.abspath(os.path.join('data')))\n",
    "sys.path.insert(0,'../scripts/')\n",
    "from Results import result_picker\n",
    "from data_manipulation import DataManipulator\n",
    "from data_information import DataInfo\n",
    "from cleaner import DataCleaner\n",
    "import mlflow\n",
    "sns.set()\n",
    "\n",
    "results = result_picker()"
   ]
  },
  {
   "cell_type": "markdown",
   "id": "a90d8183",
   "metadata": {},
   "source": [
    "# loading Data"
   ]
  },
  {
   "cell_type": "code",
   "execution_count": 55,
   "id": "74e643aa",
   "metadata": {},
   "outputs": [],
   "source": [
    "merged_data = pd.read_csv('../data2/train_store.csv')\n",
    "y_values = merged_data['Sales']\n",
    "x_values = merged_data.drop(['Sales'], axis=1)"
   ]
  },
  {
   "cell_type": "markdown",
   "id": "adc4970b",
   "metadata": {},
   "source": [
    "# spliting Data"
   ]
  },
  {
   "cell_type": "code",
   "execution_count": 67,
   "id": "c80468c8",
   "metadata": {},
   "outputs": [
    {
     "name": "stdout",
     "output_type": "stream",
     "text": [
      "split was successful.\n"
     ]
    }
   ],
   "source": [
    "X_train, X_test, y_train, y_test = train_test_split(x_values, y_values, test_size=0.2, random_state=42)\n",
    "X_train, X_valid, y_train, y_valid = train_test_split(X_train, y_train, test_size=0.2, random_state=42)\n",
    "print (\"split was successful.\")"
   ]
  },
  {
   "cell_type": "code",
   "execution_count": 69,
   "id": "c9588400",
   "metadata": {},
   "outputs": [],
   "source": [
    "#Define the Pipeline\n",
    "model_pipeline = Pipeline(steps=[('random_forest', RandomForestRegressor(max_depth=10,random_state=2))])"
   ]
  },
  {
   "cell_type": "code",
   "execution_count": 70,
   "id": "5acfff6a",
   "metadata": {},
   "outputs": [],
   "source": [
    "def eval_metrics(actual, pred):\n",
    "    rmse = np.sqrt(mean_squared_error(actual, pred))\n",
    "    mae = mean_absolute_error(actual, pred)\n",
    "    r2 = r2_score(actual, pred)\n",
    "    print(\"RMSE Score is: {:.5%}\".format(rmse))\n",
    "    print(\"R2 Square Score is: {:.5%}\".format(r2))\n",
    "    print(\"MAE Score is: {:.5%}\".format(mae))\n",
    "    return {f'RMSE Score': rmse, f'R2_Squared': r2, f'MAE Score': mae}"
   ]
  },
  {
   "cell_type": "code",
   "execution_count": null,
   "id": "0b06671c",
   "metadata": {},
   "outputs": [],
   "source": [
    "mlflow.autolog(log_input_examples=True, disable_for_unsupported_versions=True, silent=True)\n",
    "with mlflow.start_run() as run:\n",
    "    best_model = model_pipeline.fit(X_train, y_train)\n",
    "\n",
    "    train_score = best_model.score(X_train, y_train)\n",
    "    valid_score = best_model.score(X_valid, y_valid)\n",
    "    valid_metrics = eval_metrics(y_valid, best_model.predict(X_valid))\n",
    "    test_score = best_model.score(X_test, y_test)\n",
    "    test_metrics = eval_metrics(y_test, best_model.predict(X_test))\n",
    "\n",
    "    mlflow.log_metric(\"Valid Score\", valid_score)\n",
    "    mlflow.log_metrics(valid_metrics)\n",
    "    mlflow.log_metric(\"Test Score\", test_score)\n",
    "    mlflow.log_metrics(test_metrics)"
   ]
  },
  {
   "cell_type": "markdown",
   "id": "bb377514",
   "metadata": {},
   "source": [
    "# Parameter Tunning"
   ]
  },
  {
   "cell_type": "code",
   "execution_count": 72,
   "id": "9deda35b",
   "metadata": {},
   "outputs": [],
   "source": [
    "merged_data['Sales'] = numeric_transformer.fit_transform(merged_data[[\"Sales\"]])"
   ]
  },
  {
   "cell_type": "code",
   "execution_count": 73,
   "id": "a01a6738",
   "metadata": {},
   "outputs": [],
   "source": [
    "numeric_features = merged_data.select_dtypes(include=['int64', 'float64','uint8','uint16','float32']).columns\n",
    "\n",
    "categorical_features = merged_data.select_dtypes(include=['object']).columns\n",
    "\n",
    "class make_present_col_selector_class:\n",
    "    def __init__(self, selected_columns):\n",
    "        self.selected_columns = selected_columns\n",
    "\n",
    "    def __call__(self, df):\n",
    "        return [col for col in df.columns if col in self.selected_columns]\n",
    "\n",
    "preprocessor = ColumnTransformer(\n",
    "    transformers=[\n",
    "        ('numeric', numeric_transformer, make_present_col_selector_class(numeric_features)), \n",
    "        ('categorical', categorical_transformer, make_present_col_selector_class(categorical_features))\n",
    "    ])"
   ]
  },
  {
   "cell_type": "code",
   "execution_count": 74,
   "id": "21d2830c",
   "metadata": {},
   "outputs": [],
   "source": [
    "# Create dictionary with candidate learning algorithms and their hyperparameters\n",
    "grid_param = [{\n",
    "     'random_forest': [RandomForestRegressor(max_depth=10, random_state=2)],\n",
    "     'random_forest__bootstrap': [True, True],\n",
    "     'random_forest__ccp_alpha': [0.0],\n",
    "     'random_forest__criterion': ['mse'],\n",
    "     'random_forest__max_depth': [5,8,15],\n",
    "     'random_forest__max_features': ['auto'],\n",
    "#      'random_forest__max_leaf_nodes': None,\n",
    "#      'random_forest__max_samples': None,\n",
    "     'random_forest__min_impurity_decrease': [0.0],\n",
    "#      'random_forest__min_impurity_split': None,\n",
    "     'random_forest__min_samples_leaf': [1,5],\n",
    "     'random_forest__min_samples_split': [2],\n",
    "     'random_forest__min_weight_fraction_leaf': [0.0],\n",
    "     'random_forest__n_estimators': [100],\n",
    "#      'random_forest__n_jobs': None,\n",
    "     'random_forest__oob_score': [False, True],\n",
    "     'random_forest__random_state': [2],\n",
    "     'random_forest__verbose': [0],\n",
    "     'random_forest__warm_start': [True, False]\n",
    "}]\n",
    "\n",
    "    \n",
    "# create a gridsearch of the pipeline, the fit the best model\n",
    "grid_search_pipeline = GridSearchCV(\n",
    "    model_pipeline, grid_param, cv=3, verbose=0, n_jobs=-1)  # Fit grid search"
   ]
  },
  {
   "cell_type": "code",
   "execution_count": 75,
   "id": "c7200a65",
   "metadata": {},
   "outputs": [],
   "source": [
    "def generate_model_name(mse_score: float) -> str:\n",
    "    now = datetime.now()\n",
    "    dt_string = now.strftime(\"%d-%m-%Y-%H-%M-%S-\")\n",
    "    dt_string = dt_string + \"{:.2%}\".format(mse_score)\n",
    "    return dt_string"
   ]
  },
  {
   "cell_type": "code",
   "execution_count": 79,
   "id": "56a2c5fc",
   "metadata": {},
   "outputs": [],
   "source": [
    "pipeline = Pipeline(steps=[\n",
    "    # ('preprocessor', preprocessor),\n",
    "    ('regressor', RandomForestRegressor())\n",
    "])"
   ]
  },
  {
   "cell_type": "code",
   "execution_count": null,
   "id": "bfe1ab49",
   "metadata": {},
   "outputs": [],
   "source": [
    "save_model(best_model, test_metrics['RMSE Score'])"
   ]
  },
  {
   "cell_type": "code",
   "execution_count": null,
   "id": "ddb73498",
   "metadata": {},
   "outputs": [],
   "source": [
    "best_model.get_params()"
   ]
  },
  {
   "cell_type": "markdown",
   "id": "9fefa60f",
   "metadata": {},
   "source": [
    "# Saving Store Reference for prediction purpose"
   ]
  },
  {
   "cell_type": "code",
   "execution_count": 80,
   "id": "9bcc1052",
   "metadata": {},
   "outputs": [],
   "source": [
    "store = pd.read_csv('../data/store.csv')\n",
    "store_manipulatior = DataManipulator(store)\n",
    "store_info = DataInfo(store)\n",
    "store_cleaner = DataCleaner(store)"
   ]
  },
  {
   "cell_type": "code",
   "execution_count": 81,
   "id": "288de783",
   "metadata": {},
   "outputs": [
    {
     "name": "stdout",
     "output_type": "stream",
     "text": [
      "The total number of missing values is 2343\n",
      "21.01 % missing values.\n"
     ]
    }
   ],
   "source": [
    "store_info.get_missing_description()"
   ]
  },
  {
   "cell_type": "code",
   "execution_count": 82,
   "id": "9df11c7e",
   "metadata": {},
   "outputs": [
    {
     "data": {
      "text/html": [
       "<div>\n",
       "<style scoped>\n",
       "    .dataframe tbody tr th:only-of-type {\n",
       "        vertical-align: middle;\n",
       "    }\n",
       "\n",
       "    .dataframe tbody tr th {\n",
       "        vertical-align: top;\n",
       "    }\n",
       "\n",
       "    .dataframe thead th {\n",
       "        text-align: right;\n",
       "    }\n",
       "</style>\n",
       "<table border=\"1\" class=\"dataframe\">\n",
       "  <thead>\n",
       "    <tr style=\"text-align: right;\">\n",
       "      <th></th>\n",
       "      <th>total_missing_values</th>\n",
       "      <th>missing_percentage</th>\n",
       "    </tr>\n",
       "  </thead>\n",
       "  <tbody>\n",
       "    <tr>\n",
       "      <th>Store</th>\n",
       "      <td>0</td>\n",
       "      <td>0.0 %</td>\n",
       "    </tr>\n",
       "    <tr>\n",
       "      <th>StoreType</th>\n",
       "      <td>0</td>\n",
       "      <td>0.0 %</td>\n",
       "    </tr>\n",
       "    <tr>\n",
       "      <th>Assortment</th>\n",
       "      <td>0</td>\n",
       "      <td>0.0 %</td>\n",
       "    </tr>\n",
       "    <tr>\n",
       "      <th>CompetitionDistance</th>\n",
       "      <td>3</td>\n",
       "      <td>0.27 %</td>\n",
       "    </tr>\n",
       "    <tr>\n",
       "      <th>CompetitionOpenSinceMonth</th>\n",
       "      <td>354</td>\n",
       "      <td>31.75 %</td>\n",
       "    </tr>\n",
       "    <tr>\n",
       "      <th>CompetitionOpenSinceYear</th>\n",
       "      <td>354</td>\n",
       "      <td>31.75 %</td>\n",
       "    </tr>\n",
       "    <tr>\n",
       "      <th>Promo2</th>\n",
       "      <td>0</td>\n",
       "      <td>0.0 %</td>\n",
       "    </tr>\n",
       "    <tr>\n",
       "      <th>Promo2SinceWeek</th>\n",
       "      <td>544</td>\n",
       "      <td>48.79 %</td>\n",
       "    </tr>\n",
       "    <tr>\n",
       "      <th>Promo2SinceYear</th>\n",
       "      <td>544</td>\n",
       "      <td>48.79 %</td>\n",
       "    </tr>\n",
       "    <tr>\n",
       "      <th>PromoInterval</th>\n",
       "      <td>544</td>\n",
       "      <td>48.79 %</td>\n",
       "    </tr>\n",
       "  </tbody>\n",
       "</table>\n",
       "</div>"
      ],
      "text/plain": [
       "                           total_missing_values missing_percentage\n",
       "Store                                         0              0.0 %\n",
       "StoreType                                     0              0.0 %\n",
       "Assortment                                    0              0.0 %\n",
       "CompetitionDistance                           3             0.27 %\n",
       "CompetitionOpenSinceMonth                   354            31.75 %\n",
       "CompetitionOpenSinceYear                    354            31.75 %\n",
       "Promo2                                        0              0.0 %\n",
       "Promo2SinceWeek                             544            48.79 %\n",
       "Promo2SinceYear                             544            48.79 %\n",
       "PromoInterval                               544            48.79 %"
      ]
     },
     "execution_count": 82,
     "metadata": {},
     "output_type": "execute_result"
    }
   ],
   "source": [
    "store_info.get_column_based_missing_percentage()"
   ]
  },
  {
   "cell_type": "code",
   "execution_count": 83,
   "id": "0e1de3ea",
   "metadata": {},
   "outputs": [],
   "source": [
    "# Fill missing numeric values\n",
    "store_manipulatior.fill_columns_with_max(store_info.get_numeric_columns())\n",
    "# Fill non-numeric values (categorical values)\n",
    "store_manipulatior.fill_columns_with_most_frequent(store_info.get_object_columns())"
   ]
  },
  {
   "cell_type": "code",
   "execution_count": 84,
   "id": "0cf7d02c",
   "metadata": {},
   "outputs": [
    {
     "name": "stdout",
     "output_type": "stream",
     "text": [
      "The total number of missing values is 0\n",
      "0.0 % missing values.\n"
     ]
    }
   ],
   "source": [
    "store_info.get_missing_description()"
   ]
  },
  {
   "cell_type": "code",
   "execution_count": 85,
   "id": "3e5f63a8",
   "metadata": {},
   "outputs": [
    {
     "data": {
      "text/plain": [
       "{'StoreType': LabelEncoder(),\n",
       " 'Assortment': LabelEncoder(),\n",
       " 'PromoInterval': LabelEncoder()}"
      ]
     },
     "execution_count": 85,
     "metadata": {},
     "output_type": "execute_result"
    }
   ],
   "source": [
    "# Label Object Columns\n",
    "store_manipulatior.label_columns(store_info.get_object_columns())\n"
   ]
  },
  {
   "cell_type": "code",
   "execution_count": 86,
   "id": "b97a6988",
   "metadata": {},
   "outputs": [
    {
     "name": "stdout",
     "output_type": "stream",
     "text": [
      "<class 'pandas.core.frame.DataFrame'>\n",
      "RangeIndex: 1115 entries, 0 to 1114\n",
      "Data columns (total 10 columns):\n",
      " #   Column                     Non-Null Count  Dtype  \n",
      "---  ------                     --------------  -----  \n",
      " 0   Store                      1115 non-null   int64  \n",
      " 1   StoreType                  1115 non-null   int32  \n",
      " 2   Assortment                 1115 non-null   int32  \n",
      " 3   CompetitionDistance        1115 non-null   float64\n",
      " 4   CompetitionOpenSinceMonth  1115 non-null   float64\n",
      " 5   CompetitionOpenSinceYear   1115 non-null   float64\n",
      " 6   Promo2                     1115 non-null   int64  \n",
      " 7   Promo2SinceWeek            1115 non-null   float64\n",
      " 8   Promo2SinceYear            1115 non-null   float64\n",
      " 9   PromoInterval              1115 non-null   int32  \n",
      "dtypes: float64(5), int32(3), int64(2)\n",
      "memory usage: 74.2 KB\n"
     ]
    }
   ],
   "source": [
    "store.info()"
   ]
  },
  {
   "cell_type": "markdown",
   "id": "ca03cb96",
   "metadata": {},
   "source": [
    "# Saving Model Column Order Information For Prediciton Later"
   ]
  },
  {
   "cell_type": "code",
   "execution_count": 88,
   "id": "6be1afc9",
   "metadata": {},
   "outputs": [],
   "source": [
    "# Column Inputs Orders\n",
    "results.add_data('model_input_columns',x_train.columns.to_list())"
   ]
  },
  {
   "cell_type": "code",
   "execution_count": null,
   "id": "58148b07",
   "metadata": {},
   "outputs": [],
   "source": [
    "#results.save_data('../models/column_reference.pkl')"
   ]
  }
 ],
 "metadata": {
  "kernelspec": {
   "display_name": "Python 3",
   "language": "python",
   "name": "python3"
  },
  "language_info": {
   "codemirror_mode": {
    "name": "ipython",
    "version": 3
   },
   "file_extension": ".py",
   "mimetype": "text/x-python",
   "name": "python",
   "nbconvert_exporter": "python",
   "pygments_lexer": "ipython3",
   "version": "3.8.8"
  }
 },
 "nbformat": 4,
 "nbformat_minor": 5
}
